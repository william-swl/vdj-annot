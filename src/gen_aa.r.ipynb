{
 "cells": [
  {
   "cell_type": "code",
   "execution_count": null,
   "id": "7db07b5d-f687-4c1c-9b74-8b383ab6c0c3",
   "metadata": {
    "tags": [],
    "vscode": {
     "languageId": "r"
    }
   },
   "outputs": [],
   "source": [
    "R.home()"
   ]
  },
  {
   "cell_type": "code",
   "execution_count": null,
   "id": "b9adad61-9020-4fc4-a480-d79e638540af",
   "metadata": {
    "scrolled": true,
    "vscode": {
     "languageId": "r"
    }
   },
   "outputs": [],
   "source": [
    "baizer::pkglib(tidyverse, baizer, Biostrings)"
   ]
  },
  {
   "cell_type": "code",
   "execution_count": null,
   "id": "99ca44ca-c2c3-48d6-854c-1b8964626827",
   "metadata": {
    "vscode": {
     "languageId": "r"
    }
   },
   "outputs": [],
   "source": [
    "sample <- snakemake@wildcards[['sample']]"
   ]
  },
  {
   "cell_type": "code",
   "execution_count": null,
   "id": "1bd1023a-f11b-41a4-b527-ea8542d821b9",
   "metadata": {},
   "outputs": [],
   "source": [
    "airr <- read_tsv(snakemake@input[['igblast_tsv']])"
   ]
  },
  {
   "cell_type": "code",
   "execution_count": null,
   "id": "011d9037-2edd-4a3b-81d9-03db4cb80bc4",
   "metadata": {},
   "outputs": [],
   "source": [
    "airr <- airr %>% mutate(germline_alignment_aa_nogap = str_replace_all(germline_alignment_aa, '-', ''))"
   ]
  },
  {
   "cell_type": "code",
   "execution_count": null,
   "id": "f83e39db-7aee-44fa-af6f-d1e96cc61d58",
   "metadata": {},
   "outputs": [],
   "source": [
    "write_fasta <- function(x, file) {\n",
    "  if (is.null(names(x))) {\n",
    "    names(x) <- seq_along(x)\n",
    "  }\n",
    "\n",
    "  res <- map2_chr(names(x), x, ~ str_c(\">\", .x, \"\\n\", .y))\n",
    "  out <- file(file, \"w\")\n",
    "  writeLines(res, out)\n",
    "  close(out)\n",
    "}"
   ]
  },
  {
   "cell_type": "code",
   "execution_count": null,
   "id": "46dfa7c8-4470-4140-95fa-e141dc104e0e",
   "metadata": {},
   "outputs": [],
   "source": [
    "seqs <- airr[['sequence']]"
   ]
  },
  {
   "cell_type": "code",
   "execution_count": null,
   "id": "a42f06df-35fb-4b75-986b-e7037388f087",
   "metadata": {},
   "outputs": [],
   "source": [
    "ds <- DNAStringSet(seqs)"
   ]
  },
  {
   "cell_type": "code",
   "execution_count": null,
   "id": "5962b347-893f-4d8f-95b4-e77643b7c2b8",
   "metadata": {},
   "outputs": [],
   "source": [
    "frame1 <- translate(ds, no.init.codon=TRUE, if.fuzzy.codon='solve')\n",
    "frame2 <- translate(subseq(ds, start=2), no.init.codon=TRUE, if.fuzzy.codon='solve')\n",
    "frame3 <- translate(subseq(ds, start=3), no.init.codon=TRUE, if.fuzzy.codon='solve')"
   ]
  },
  {
   "cell_type": "code",
   "execution_count": null,
   "id": "8ef50bcf-82a1-47cc-8fc4-4d2aa4836ef3",
   "metadata": {},
   "outputs": [],
   "source": [
    "frame1_stop <- str_count(as.character(frame1), '\\\\*')\n",
    "frame2_stop <- str_count(as.character(frame2), '\\\\*')\n",
    "frame3_stop <- str_count(as.character(frame3), '\\\\*')"
   ]
  },
  {
   "cell_type": "code",
   "execution_count": null,
   "id": "486d6b08-d9ef-4654-a8e0-2077e84d8eef",
   "metadata": {},
   "outputs": [],
   "source": [
    "frame_df <- tibble(frame1_stop=frame1_stop, frame2_stop=frame2_stop, frame3_stop=frame3_stop) %>%\n",
    "    mutate(min_stop = min(frame1_stop, frame2_stop, frame3_stop)) %>%\n",
    "    mutate(frame = case_when(\n",
    "        min_stop==frame1_stop ~ 1,\n",
    "        min_stop==frame2_stop ~ 2,\n",
    "        min_stop==frame3_stop ~ 3\n",
    "    ))"
   ]
  },
  {
   "cell_type": "code",
   "execution_count": null,
   "id": "605a2e32-a195-40be-8d75-6c5dee58a241",
   "metadata": {},
   "outputs": [],
   "source": [
    "trans_aa <- translate(subseq(ds, start=frame_df[['frame']]), no.init.codon=TRUE, if.fuzzy.codon='solve')"
   ]
  },
  {
   "cell_type": "code",
   "execution_count": null,
   "id": "87200371-f981-49f4-b2a6-6ae47238f416",
   "metadata": {},
   "outputs": [],
   "source": [
    "trans_aa <- as.character(trans_aa)"
   ]
  },
  {
   "cell_type": "code",
   "execution_count": null,
   "id": "270cb7b2-c6a2-4fa0-b2bb-a31e82dd865b",
   "metadata": {},
   "outputs": [],
   "source": [
    "names(trans_aa) <- airr[['sequence_id']]"
   ]
  },
  {
   "cell_type": "code",
   "execution_count": null,
   "id": "e4f24320-5b76-4c6f-8b97-e7a4663a7cef",
   "metadata": {
    "scrolled": true
   },
   "outputs": [],
   "source": [
    "write_fasta(trans_aa, snakemake@output[['aa_fa']])"
   ]
  },
  {
   "cell_type": "code",
   "execution_count": null,
   "id": "57265eea-2be7-4d35-8ff0-8e04f9cda77b",
   "metadata": {},
   "outputs": [],
   "source": [
    "pull(airr, germline_alignment_aa_nogap, sequence_id) %>% write_fasta(snakemake@output[['gm_aa_fa']])"
   ]
  },
  {
   "cell_type": "code",
   "execution_count": null,
   "id": "14da0173-76d8-47f1-a43e-8b4edd34fd42",
   "metadata": {},
   "outputs": [],
   "source": []
  }
 ],
 "metadata": {
  "kernelspec": {
   "display_name": "R",
   "language": "R",
   "name": "ir"
  },
  "language_info": {
   "codemirror_mode": "r",
   "file_extension": ".r",
   "mimetype": "text/x-r-source",
   "name": "R",
   "pygments_lexer": "r",
   "version": "4.3.3"
  }
 },
 "nbformat": 4,
 "nbformat_minor": 5
}
