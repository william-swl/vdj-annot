{
 "cells": [
  {
   "cell_type": "code",
   "execution_count": null,
   "id": "7db07b5d-f687-4c1c-9b74-8b383ab6c0c3",
   "metadata": {
    "tags": [],
    "vscode": {
     "languageId": "r"
    }
   },
   "outputs": [],
   "source": [
    "R.home()"
   ]
  },
  {
   "cell_type": "code",
   "execution_count": null,
   "id": "b9adad61-9020-4fc4-a480-d79e638540af",
   "metadata": {
    "vscode": {
     "languageId": "r"
    }
   },
   "outputs": [],
   "source": [
    "baizer::pkglib(tidyverse, baizer)"
   ]
  },
  {
   "cell_type": "code",
   "execution_count": null,
   "id": "99ca44ca-c2c3-48d6-854c-1b8964626827",
   "metadata": {
    "vscode": {
     "languageId": "r"
    }
   },
   "outputs": [],
   "source": [
    "sample <- snakemake@wildcards[['sample']]"
   ]
  },
  {
   "cell_type": "code",
   "execution_count": null,
   "id": "1bd1023a-f11b-41a4-b527-ea8542d821b9",
   "metadata": {},
   "outputs": [],
   "source": [
    "airr <- read_tsv(snakemake@input[['igblast_tsv']])"
   ]
  },
  {
   "cell_type": "code",
   "execution_count": null,
   "id": "ecc2271b-e0f9-4560-bc86-9ea5f59cb440",
   "metadata": {},
   "outputs": [],
   "source": [
    "airr %>% colnames"
   ]
  },
  {
   "cell_type": "code",
   "execution_count": null,
   "id": "011d9037-2edd-4a3b-81d9-03db4cb80bc4",
   "metadata": {},
   "outputs": [],
   "source": [
    "airr <- airr %>% mutate(germline_alignment_aa_nogap = str_replace_all(germline_alignment_aa, '-', ''))"
   ]
  },
  {
   "cell_type": "code",
   "execution_count": null,
   "id": "f83e39db-7aee-44fa-af6f-d1e96cc61d58",
   "metadata": {},
   "outputs": [],
   "source": [
    "write_fasta <- function(x, file) {\n",
    "  if (is.null(names(x))) {\n",
    "    names(x) <- seq_along(x)\n",
    "  }\n",
    "\n",
    "  res <- map2_chr(names(x), x, ~ str_c(\">\", .x, \"\\n\", .y))\n",
    "  out <- file(file, \"w\")\n",
    "  writeLines(res, out)\n",
    "  close(out)\n",
    "}"
   ]
  },
  {
   "cell_type": "code",
   "execution_count": null,
   "id": "e4f24320-5b76-4c6f-8b97-e7a4663a7cef",
   "metadata": {},
   "outputs": [],
   "source": [
    "pull(airr, sequence_alignment_aa, sequence_id) %>% write_fasta(snakemake@output[['aa_fa']])"
   ]
  },
  {
   "cell_type": "code",
   "execution_count": null,
   "id": "57265eea-2be7-4d35-8ff0-8e04f9cda77b",
   "metadata": {},
   "outputs": [],
   "source": [
    "pull(airr, germline_alignment_aa_nogap, sequence_id) %>% write_fasta(snakemake@output[['gm_aa_fa']])"
   ]
  },
  {
   "cell_type": "code",
   "execution_count": null,
   "id": "14da0173-76d8-47f1-a43e-8b4edd34fd42",
   "metadata": {},
   "outputs": [],
   "source": []
  }
 ],
 "metadata": {
  "kernelspec": {
   "display_name": "R",
   "language": "R",
   "name": "ir"
  },
  "language_info": {
   "codemirror_mode": "r",
   "file_extension": ".r",
   "mimetype": "text/x-r-source",
   "name": "R",
   "pygments_lexer": "r",
   "version": "4.3.3"
  }
 },
 "nbformat": 4,
 "nbformat_minor": 5
}
