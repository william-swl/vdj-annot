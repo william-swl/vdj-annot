{
 "cells": [
  {
   "cell_type": "code",
   "execution_count": null,
   "id": "7db07b5d-f687-4c1c-9b74-8b383ab6c0c3",
   "metadata": {
    "tags": [],
    "vscode": {
     "languageId": "r"
    }
   },
   "outputs": [],
   "source": [
    "R.home()"
   ]
  },
  {
   "cell_type": "code",
   "execution_count": null,
   "id": "64df372c-ea4d-46d0-9d97-25b34cf4ba5b",
   "metadata": {
    "scrolled": true
   },
   "outputs": [],
   "source": [
    "baizer::pkglib(tidyverse, Biostrings, Peptides, baizer, yaml)"
   ]
  },
  {
   "cell_type": "code",
   "execution_count": null,
   "id": "8313712c-fccb-425a-bc35-e8282e614dae",
   "metadata": {},
   "outputs": [],
   "source": [
    "sample <- snakemake@wildcards[['sample']]\n",
    "\n",
    "# replace default configs with sample configs\n",
    "config <- snakemake@config\n",
    "ab_scheme <- str_to_lower(config[['ext_numbering']])"
   ]
  },
  {
   "cell_type": "code",
   "execution_count": null,
   "id": "c2d53074-7afe-49b0-8701-47b5663c607d",
   "metadata": {},
   "outputs": [],
   "source": [
    "# read from igblast"
   ]
  },
  {
   "cell_type": "code",
   "execution_count": null,
   "id": "89f110a9-ddeb-4b77-a180-c110a0709271",
   "metadata": {},
   "outputs": [],
   "source": [
    "parse_IgBlast_shm <- function(igblast_fmt7) {\n",
    "  alltxt <- readLines(igblast_fmt7)\n",
    "  Ltxt <- baizer::split_vector(alltxt,\n",
    "    grep(\"# IGBLASTN\", alltxt),\n",
    "    bounds = \"[)\"\n",
    "  )\n",
    "  Ltxt <- Ltxt[-1]\n",
    "\n",
    "  parse_mut <- function(x) {\n",
    "    contig_id <- str_subset(x, \"# Query:\") %>%\n",
    "      str_replace(\"# Query: \", \"\")\n",
    "\n",
    "    # VDJ, query id, subject id, % identity, alignment length,\n",
    "    # mismatches, gap opens, gaps...\n",
    "    vdj <- c(\n",
    "      x %>% str_subset(\"^V\\\\t\") %>% .[1],\n",
    "      x %>% str_subset(\"^D\\\\t\") %>% .[1],\n",
    "      x %>% str_subset(\"^J\\\\t\") %>% .[1]\n",
    "    )\n",
    "    vdj_name <- c(\"V\", \"D\", \"J\")\n",
    "    vdj_mut <- vdj %>%\n",
    "      str_split(\"\\t\") %>%\n",
    "      map_chr(~ if (all(is.na(.x))) NA_character_ else .x[6])\n",
    "\n",
    "    # region, from, to, length, matches, mismatches, gaps, percent identity\n",
    "    cdrfr <- x %>% str_subset(\"^[CDRF123]+-IMGT+\")\n",
    "    cdrfr_name <- cdrfr %>%\n",
    "      str_split(\"\\t\") %>%\n",
    "      map_chr(1) %>%\n",
    "      str_replace(\"-IMGT\", \"\") %>%\n",
    "      str_replace(\" \\\\(germline\\\\)\", \"\")\n",
    "    if (any(duplicated(cdrfr_name)) == TRUE) {\n",
    "      stop(str_c(\"duplicated region names  \", contig_id))\n",
    "    }\n",
    "    cdrfr_mut <- cdrfr %>%\n",
    "      str_split(\"\\t\") %>%\n",
    "      map_chr(6)\n",
    "\n",
    "\n",
    "    res <- tibble( # nolint\n",
    "      sequence_id = contig_id,\n",
    "      name = c(vdj_name, cdrfr_name),\n",
    "      mut = c(vdj_mut, cdrfr_mut)\n",
    "    ) %>%\n",
    "      # fill NA as 0\n",
    "      dplyr::mutate(mut = as.double(mut), mut = ifelse(is.na(mut), 0, mut)) %>%\n",
    "      pivot_wider(names_from = \"name\", values_from = \"mut\")\n",
    "  }\n",
    "\n",
    "  res <- Ltxt %>% map_dfr(parse_mut)\n",
    "\n",
    "  # rename\n",
    "  res <- res %>% rename_at(\n",
    "    str_subset(colnames(.), \"^FR\\\\d\"),\n",
    "    ~ str_replace(.x, \"FR\", \"FWR\")\n",
    "  )\n",
    "  return(res)\n",
    "}"
   ]
  },
  {
   "cell_type": "code",
   "execution_count": null,
   "id": "0f5d6a5e-4955-4e5f-9d44-f2b44d29c8da",
   "metadata": {},
   "outputs": [],
   "source": [
    "TBigblast_tsv <- read_tsv(snakemake@input[['igblast_tsv']])\n",
    "TBshm <- parse_IgBlast_shm(snakemake@input[['igblast_txt']])"
   ]
  },
  {
   "cell_type": "code",
   "execution_count": null,
   "id": "97908af2-83cd-4597-a2c7-f0eecccb4ede",
   "metadata": {},
   "outputs": [],
   "source": [
    "# read from changeo\n",
    "TBchangeo <- bind_rows(read_tsv(snakemake@input[['changeo']]), read_tsv(snakemake@input[['changeo_fail']]))"
   ]
  },
  {
   "cell_type": "code",
   "execution_count": null,
   "id": "49f3131f-b171-4233-8656-3f9526d6a46f",
   "metadata": {},
   "outputs": [],
   "source": [
    "# read from anarci"
   ]
  },
  {
   "cell_type": "code",
   "execution_count": null,
   "id": "72039745-53da-4ab5-b709-7045c43f0bd4",
   "metadata": {},
   "outputs": [],
   "source": [
    "ab_schema_region <- read_csv(snakemake@params[['ab_schema_region']])"
   ]
  },
  {
   "cell_type": "code",
   "execution_count": null,
   "id": "6e3c7eed-b9e2-4620-bfb6-6ab6115c9ab6",
   "metadata": {},
   "outputs": [],
   "source": [
    "parse_ANARCI_aaseq <- function(x, remove_gap = TRUE, keep_number = FALSE, ab_schema_region) {\n",
    "  aa_cols <- colnames(x) %>% str_subset(\"^\\\\d+\")\n",
    "  res <- x %>%\n",
    "    dplyr::select(sequence_id = \"Id\", dplyr::all_of(aa_cols)) %>%\n",
    "    # trans TRUE, FALSE to the real character T, F\n",
    "    dplyr::mutate(\n",
    "      dplyr::across(\n",
    "        dplyr::where(is.logical),\n",
    "        ~ case_when(\n",
    "          .x == TRUE ~ \"T\", .x == FALSE ~ \"F\",\n",
    "          is.na(.x) ~ \"-\", TRUE ~ as.character(.x)\n",
    "        )\n",
    "      )\n",
    "    ) %>%\n",
    "    # trans NA to -, to avoid NA in sequence\n",
    "    dplyr::mutate(\n",
    "      dplyr::across(dplyr::all_of(aa_cols), ~ ifelse(is.na(.x), \"-\", .x))\n",
    "    )\n",
    "\n",
    "  # region seq aa\n",
    "  region <- res %>%\n",
    "    pivot_longer(-\"sequence_id\", names_to = \"numbering\", values_to = \"aa\") %>%\n",
    "    dplyr::mutate(numbering = factor(.data[[\"numbering\"]], aa_cols)) %>%\n",
    "    dplyr::mutate(site = str_extract(.data[[\"numbering\"]], \"\\\\d+\") %>%\n",
    "      as.double()) %>%\n",
    "    dplyr::arrange(.data[[\"sequence_id\"]], .data[[\"numbering\"]])\n",
    "\n",
    "  region <- region %>%\n",
    "    left_join(ab_schema_region,\n",
    "      by = dplyr::join_by(between(site, start, end, bounds = \"[]\"))\n",
    "    ) %>%\n",
    "    dplyr::filter(!is.na(region)) %>%\n",
    "    dplyr::arrange(region)\n",
    "\n",
    "  region <- region %>%\n",
    "    group_split(.data[[\"sequence_id\"]]) %>%\n",
    "    map_dfr(~ dplyr::summarise(.x,\n",
    "      aa = str_c(aa, collapse = \"\"),\n",
    "      .by = c(\"sequence_id\", \"region\")\n",
    "    )) %>%\n",
    "    pivot_wider(names_from = \"region\", values_from = \"aa\") %>%\n",
    "    rename_at(\n",
    "      dplyr::pull(ab_schema_region, \"region\") %>% as.character(),\n",
    "      ~ str_c(.x, \"_aa\")\n",
    "    )\n",
    "\n",
    "  # V-domain seq aa\n",
    "  res <- res %>% tidyr::unite(\"seq_align_aa\", dplyr::all_of(aa_cols),\n",
    "    sep = \"\", remove = !keep_number\n",
    "  )\n",
    "\n",
    "  res <- left_join(region, res, by = \"sequence_id\")\n",
    "\n",
    "  if (remove_gap == TRUE) {\n",
    "    res <- res %>% dplyr::mutate(dplyr::across(\n",
    "      ends_with(\"_aa\"),\n",
    "      ~ str_replace_all(.x, \"-\", \"\")\n",
    "    ))\n",
    "  }\n",
    "\n",
    "  return(res)\n",
    "}"
   ]
  },
  {
   "cell_type": "code",
   "execution_count": null,
   "id": "da8e1215-fcff-43b5-a558-a6132ed04097",
   "metadata": {},
   "outputs": [],
   "source": [
    "TBext_anarci_H <- read_csv(snakemake@input[['ext_anarci_H']])\n",
    "TBext_anarci_L <- read_csv(snakemake@input[['ext_anarci_KL']])"
   ]
  },
  {
   "cell_type": "code",
   "execution_count": null,
   "id": "7cb3b0d0-2b58-41e6-b985-13f573e31aef",
   "metadata": {
    "scrolled": true
   },
   "outputs": [],
   "source": [
    "TBext_anarci_seq <- bind_rows(\n",
    "    parse_ANARCI_aaseq(TBext_anarci_H, \n",
    "                       ab_schema_region=filter(ab_schema_region, scheme==ab_scheme, chain=='H')),\n",
    "    parse_ANARCI_aaseq(TBext_anarci_L, \n",
    "                       ab_schema_region=filter(ab_schema_region, scheme==ab_scheme, chain=='L'))\n",
    ") %>% rename_at(str_subset(colnames(.), 'cdr\\\\d_aa'), ~str_c(ab_scheme, .x, sep='_'))"
   ]
  },
  {
   "cell_type": "code",
   "execution_count": null,
   "id": "0ebeee46-f4ae-4c44-a559-09bc295d578c",
   "metadata": {},
   "outputs": [],
   "source": [
    "# main and fine x_call\n",
    "gene_cols <- str_subset(colnames(TBigblast_tsv), '_call$')\n",
    "\n",
    "TBigblast_tsv <- TBigblast_tsv %>%\n",
    "    # extract first fine gene to _fine cols\n",
    "    mutate(across(all_of(gene_cols), ~reg_match(.x, '[^,]+'), .names='{.col}_fine')) %>%\n",
    "    # extract first main gene \n",
    "    mutate(across(all_of(gene_cols), ~reg_match(.x, '[^\\\\*]+'))) %>%\n",
    "    # rename\n",
    "    rename_at(c(gene_cols, str_c(gene_cols, '_fine')), \n",
    "              ~str_replace_all(.x, '_call', '_gene'))"
   ]
  },
  {
   "cell_type": "code",
   "execution_count": null,
   "id": "c2cd708a-3a87-40b0-8eb5-e18a3671cb2b",
   "metadata": {},
   "outputs": [],
   "source": [
    "# cdr length, the length of NA cdr will be NA\n",
    "cdr_aa_cols <- str_subset(colnames(TBigblast_tsv), 'cdr\\\\d_aa')\n",
    "TBigblast_tsv <- TBigblast_tsv %>%\n",
    "    mutate(across(all_of(cdr_aa_cols), ~nchar(.x), .names='{.col}_len'))"
   ]
  },
  {
   "cell_type": "code",
   "execution_count": null,
   "id": "2319128d-f62f-4a2e-a5c2-dd7ea1fbf3a4",
   "metadata": {},
   "outputs": [],
   "source": [
    "# rename shm columns\n",
    "\n",
    "TBshm <- TBshm %>% rename_at(-1, ~str_to_lower(.x) %>% str_c('_mismatch_nt')) %>%\n",
    "    mutate(v_domain_shm_nt = \n",
    "           sum(c(v_mismatch_nt, d_mismatch_nt, j_mismatch_nt), na.rm=TRUE), \n",
    "           .by=sequence_id)"
   ]
  },
  {
   "cell_type": "code",
   "execution_count": null,
   "id": "682edd43-3d30-4874-93bd-6e8a6443dba6",
   "metadata": {},
   "outputs": [],
   "source": [
    "# cdr3 aa feature, the feature of NA cdr3 will be NA\n",
    "TBaafeature <- TBigblast_tsv %>% select(sequence_id, cdr3_aa) %>% mutate(\n",
    "    cdr3_charge=ifelse(!is.na(cdr3_aa), charge(seq=cdr3_aa, pH=7.4, pKscale='EMBOSS'), NA),\n",
    "    cdr3_hydrophobicity=map_dbl(cdr3_aa, ~ifelse(!is.na(.x), hydrophobicity(seq=.x, scale='Eisenberg'), NA)),\n",
    "    cdr3_boman=map_dbl(cdr3_aa, ~ifelse(!is.na(.x), boman(seq=.x), NA)),\n",
    "    # if nchar of cdr3 <= 2, instaIndex will throw an error\n",
    "    cdr3_instaindex = map_dbl(cdr3_aa, ~ifelse(!is.na(.x) & nchar(.x) > 2, instaIndex(seq=.x), NA))\n",
    ") %>% select(-cdr3_aa)"
   ]
  },
  {
   "cell_type": "code",
   "execution_count": null,
   "id": "76686c15-9eb3-455a-907e-31ef0ad8200f",
   "metadata": {},
   "outputs": [],
   "source": [
    "##################################\n",
    "### select cols\n",
    "##################################"
   ]
  },
  {
   "cell_type": "code",
   "execution_count": null,
   "id": "af117020-10fd-4e37-834c-57866e2420dc",
   "metadata": {},
   "outputs": [],
   "source": [
    "TBigblast_tsv %>% colnames"
   ]
  },
  {
   "cell_type": "code",
   "execution_count": null,
   "id": "ffd539c6-4278-4372-93e4-9cbea8c95f06",
   "metadata": {},
   "outputs": [],
   "source": [
    "# columns from igblast\n",
    "TBigblast_sel <- TBigblast_tsv %>% select(\n",
    "                    sequence_id, productive_igblast=productive, chain=locus, \n",
    "                    v_gene, d_gene, j_gene, v_gene_fine, d_gene_fine, j_gene_fine, \n",
    "                    cdr1_aa_len, cdr2_aa_len, cdr3_aa_len,\n",
    "                    cdr1_nt=cdr1, cdr1_aa, cdr2_nt=cdr2, cdr2_aa, cdr3_nt=cdr3, cdr3_aa, np1_nt=np1, np2_nt=np2,\n",
    "                    fwr1_nt=fwr1, fwr1_aa, fwr2_nt=fwr2, fwr2_aa, fwr3_nt=fwr3, fwr3_aa, fwr4_nt=fwr4, fwr4_aa,\n",
    "                    v_start=v_sequence_start, v_end=v_sequence_end, \n",
    "                    d_start=d_sequence_start, d_end=d_sequence_end,\n",
    "                    j_start=j_sequence_start, j_end=j_sequence_end,\n",
    "                    seq_nt=sequence, seq_aa=sequence_aa, seq_align_nt=sequence_alignment, gm_align_nt=germline_alignment\n",
    "        ) \n",
    "\n",
    "# columns from shm\n",
    "TBshm_sel <- TBshm %>%\n",
    "    relocate(sequence_id, v_domain_shm_nt, contains('cdr'), contains('fwr'))\n",
    "\n",
    "# columns from changeo\n",
    "TBchangeo_sel <- TBchangeo %>% select(sequence_id, clone_changeo=clone_id, seq_gm=germline_alignment_d_mask)\n",
    "\n",
    "# columns from anarci\n",
    "TBext_anarci_seq <- TBext_anarci_seq"
   ]
  },
  {
   "cell_type": "code",
   "execution_count": null,
   "id": "a65ec7cd-09ab-4663-867e-242481b60f57",
   "metadata": {},
   "outputs": [],
   "source": [
    "##################################\n",
    "### join\n",
    "##################################"
   ]
  },
  {
   "cell_type": "code",
   "execution_count": null,
   "id": "8f14c628-b879-4e6d-b411-ae8ae36c33d4",
   "metadata": {
    "scrolled": true
   },
   "outputs": [],
   "source": [
    "TBjoin <- TBigblast_sel %>% left_join(TBshm_sel, by='sequence_id') %>%\n",
    "    relocate(all_of(colnames(TBshm_sel)[-1]), .after=cdr3_aa_len)\n",
    "\n",
    "TBjoin <- TBjoin %>% left_join(TBchangeo_sel, by='sequence_id') %>%\n",
    "     relocate(clone_changeo, .after=productive_igblast)\n",
    "\n",
    "TBjoin <- TBjoin %>% left_join(TBext_anarci_seq, by='sequence_id') %>%\n",
    "    relocate(matches('cdr\\\\d_aa'), .after=fwr4_aa) %>%\n",
    "    relocate(seq_align_aa, .after=seq_align_nt)\n",
    "\n",
    "TBjoin <- TBjoin %>% left_join(TBaafeature, by='sequence_id') %>%\n",
    "    relocate(all_of(colnames(TBshm_sel)[-1]), .after=cdr3_aa)"
   ]
  },
  {
   "cell_type": "code",
   "execution_count": null,
   "id": "c8d0a6a1-e359-46d2-9bba-bbd6a9175a6a",
   "metadata": {},
   "outputs": [],
   "source": [
    "# calculate shm ratio\n",
    "TBjoin <- TBjoin %>% mutate(v_domain_shm_ratio = round(v_domain_shm_nt/nchar(seq_align_nt), 4), \n",
    "                  .after=v_domain_shm_nt)"
   ]
  },
  {
   "cell_type": "code",
   "execution_count": null,
   "id": "1403aa2b-e9ff-41b3-8789-58c5455051c5",
   "metadata": {},
   "outputs": [],
   "source": [
    "##################################\n",
    "### widen for HL\n",
    "##################################"
   ]
  },
  {
   "cell_type": "code",
   "execution_count": null,
   "id": "858de92f-e0ab-4dc3-82c2-225be0d7ca98",
   "metadata": {},
   "outputs": [],
   "source": [
    "TBjoin <- TBjoin %>% mutate(HL=case_when(chain=='IGH' ~ 'H', chain=='IGL' ~ 'L', chain=='IGK' ~ 'L')) %>%\n",
    "    mutate(HL=factor(HL, c('H', 'L'))) %>% \n",
    "    # remove the contigs unknown\n",
    "    filter(!is.na(HL))"
   ]
  },
  {
   "cell_type": "code",
   "execution_count": null,
   "id": "bbda3ebc-2fef-43d9-9ecc-19ee9f044cac",
   "metadata": {},
   "outputs": [],
   "source": [
    "pattern <- config[['cell_pattern']]"
   ]
  },
  {
   "cell_type": "code",
   "execution_count": null,
   "id": "c8d41579-cbb6-4a53-b7b7-c8d5e43c8748",
   "metadata": {},
   "outputs": [],
   "source": [
    "TBjoin <- TBjoin %>% mutate(cell=reg_match(sequence_id, pattern), .after=sequence_id)"
   ]
  },
  {
   "cell_type": "code",
   "execution_count": null,
   "id": "36eb5c5a-3f67-4a92-9af2-f114b5e96498",
   "metadata": {},
   "outputs": [],
   "source": [
    "# contig numbers of a cell, and whether there is only an unique H or L\n",
    "TBunique <- TBjoin %>% group_by(cell, HL) %>% summarise(contig_num = n(), unique = n() == 1) %>%\n",
    "    ungroup"
   ]
  },
  {
   "cell_type": "code",
   "execution_count": null,
   "id": "d69ce199-96ba-4f64-b9e4-9670e985c968",
   "metadata": {
    "scrolled": true
   },
   "outputs": [],
   "source": [
    "# for multi-contigs, only keep the first one with most umis\n",
    "TBjoin <- TBjoin %>% group_by(cell, HL) %>% dplyr::slice(1) %>% ungroup %>%\n",
    "    arrange(HL, cell, sequence_id)"
   ]
  },
  {
   "cell_type": "code",
   "execution_count": null,
   "id": "944a5fb7-bb54-4449-975b-691c8acddf42",
   "metadata": {
    "scrolled": true
   },
   "outputs": [],
   "source": [
    "TBjoin <- TBjoin %>% left_join(TBunique, by=c('cell', 'HL')) %>%\n",
    "    relocate(contig_num, unique, .after=productive_igblast)"
   ]
  },
  {
   "cell_type": "code",
   "execution_count": null,
   "id": "7f566c8b-21a9-40dc-8298-2fa89c89f9e4",
   "metadata": {},
   "outputs": [],
   "source": [
    "# pivot\n",
    "keep_col <- c('cell', 'HL')\n",
    "TBwider <- TBjoin %>% pivot_wider(names_from='HL', values_from=-all_of(keep_col))"
   ]
  },
  {
   "cell_type": "code",
   "execution_count": null,
   "id": "60aa3546-18f0-44cc-9b25-acb0b38d9350",
   "metadata": {
    "scrolled": true
   },
   "outputs": [],
   "source": [
    "# unique, productive, clone_cellranger, class\n",
    "TBwider <- TBwider %>% \n",
    "    mutate(productive_igblast=productive_igblast_H & productive_igblast_L,\n",
    "           unique = unique_H & unique_L, \n",
    "           # class=str_sub(c_gene_H, 1, 4) %>% str_replace('GH', 'g'),\n",
    "           clone_changeo=str_glue('{clone_changeo_H}-{clone_changeo_L}'),\n",
    "           .after=cell\n",
    "          )\n",
    "# if single contig\n",
    "TBwider <- TBwider %>% mutate(\n",
    "    productive_igblast=ifelse(is.na(seq_nt_H) | is.na(seq_nt_L), FALSE, productive_igblast),\n",
    "    unique=ifelse(is.na(seq_nt_H) | is.na(seq_nt_L), FALSE, unique)\n",
    ")"
   ]
  },
  {
   "cell_type": "code",
   "execution_count": null,
   "id": "5b5cd25e-10d7-4f95-8f37-ac6253644340",
   "metadata": {},
   "outputs": [],
   "source": [
    "##################################\n",
    "### mutation target\n",
    "##################################"
   ]
  },
  {
   "cell_type": "code",
   "execution_count": null,
   "id": "2dea4e09-44b1-485b-87cd-193134afeb1a",
   "metadata": {},
   "outputs": [],
   "source": [
    "# Hchain mut\n",
    "orfH <- parse_ANARCI_aaseq(\n",
    "            read_csv(snakemake@input[['anarci_H']]), keep_number=TRUE,\n",
    "            ab_schema_region=filter(ab_schema_region, scheme=='imgt', chain=='H')\n",
    "        ) %>% select(id=sequence_id, matches('^\\\\d')) %>% c2r('id')\n",
    "gmH <- parse_ANARCI_aaseq(\n",
    "            read_csv(snakemake@input[['gm_anarci_H']]), keep_number=TRUE,\n",
    "            ab_schema_region=filter(ab_schema_region, scheme=='imgt', chain=='H')\n",
    "        ) %>% select(id=sequence_id, matches('^\\\\d')) %>% c2r('id')\n",
    "\n",
    "common_ids <- intersect(rownames(orfH), rownames(gmH))\n",
    "common_cols <- intersect(colnames(orfH), colnames(gmH))\n",
    "diff_bool_H <- orfH[common_ids, common_cols] != gmH[common_ids, common_cols]\n",
    "\n",
    "# if germline is -\n",
    "diff_bool_H <- ifelse(gmH != '-', diff_bool_H, FALSE)\n",
    "colnames(diff_bool_H) <- str_c('imgt_H', colnames(diff_bool_H))"
   ]
  },
  {
   "cell_type": "code",
   "execution_count": null,
   "id": "177f914a-2c37-4371-ba80-13e77817c20c",
   "metadata": {},
   "outputs": [],
   "source": [
    "# Lchain mut\n",
    "orfL <- parse_ANARCI_aaseq(\n",
    "            read_csv(snakemake@input[['anarci_KL']]), keep_number=TRUE,\n",
    "            ab_schema_region=filter(ab_schema_region, scheme=='imgt', chain=='L')\n",
    "        ) %>% select(id=sequence_id, matches('^\\\\d')) %>% c2r('id')\n",
    "gmL <- parse_ANARCI_aaseq(\n",
    "            read_csv(snakemake@input[['gm_anarci_KL']]), keep_number=TRUE,\n",
    "            ab_schema_region=filter(ab_schema_region, scheme=='imgt', chain=='L')\n",
    "        ) %>% select(id=sequence_id, matches('^\\\\d')) %>% c2r('id')\n",
    "\n",
    "common_ids <- intersect(rownames(orfL), rownames(gmL))\n",
    "common_cols <- intersect(colnames(orfL), colnames(gmL))\n",
    "diff_bool_L <- orfL[common_ids, common_cols] != gmL[common_ids, common_cols]\n",
    "\n",
    "# if germline is -\n",
    "diff_bool_L <- ifelse(gmL != '-', diff_bool_L, FALSE)\n",
    "colnames(diff_bool_L) <- str_c('imgt_L', colnames(diff_bool_L))"
   ]
  },
  {
   "cell_type": "code",
   "execution_count": null,
   "id": "e4e6bfb0-27c4-4661-a462-b09616a52bec",
   "metadata": {},
   "outputs": [],
   "source": [
    "TBmut <- TBwider %>% select(cell, sequence_id_H, sequence_id_L) %>%\n",
    "    left_join(r2c(as.data.frame(diff_bool_H), 'sequence_id_H'), by='sequence_id_H') %>%\n",
    "    left_join(r2c(as.data.frame(diff_bool_L), 'sequence_id_L'), by='sequence_id_L') %>%\n",
    "    select(-matches('^sequence_id'))\n",
    "TBmut <- TBmut %>% mutate(batch = sample, .after=cell)"
   ]
  },
  {
   "cell_type": "code",
   "execution_count": null,
   "id": "ca363ffd-b431-45a2-a8e0-9fca2194b635",
   "metadata": {},
   "outputs": [],
   "source": [
    "TBwider <- TBwider %>% mutate(batch = sample, .after=cell)"
   ]
  },
  {
   "cell_type": "code",
   "execution_count": null,
   "id": "941801f0-bd10-4a2a-998c-e19963141823",
   "metadata": {},
   "outputs": [],
   "source": [
    "# write\n",
    "dir.create(dirname(snakemake@output[['csv']]), recursive = TRUE)\n",
    "write_excel_csv(TBmut, snakemake@output[['mut']])\n",
    "write_excel_csv(TBwider, snakemake@output[['csv']])"
   ]
  },
  {
   "cell_type": "code",
   "execution_count": null,
   "id": "6a36db83-8517-411c-9c1c-8aeb4584d63a",
   "metadata": {},
   "outputs": [],
   "source": []
  }
 ],
 "metadata": {
  "kernelspec": {
   "display_name": "R",
   "language": "R",
   "name": "ir"
  },
  "language_info": {
   "codemirror_mode": "r",
   "file_extension": ".r",
   "mimetype": "text/x-r-source",
   "name": "R",
   "pygments_lexer": "r",
   "version": "4.3.3"
  }
 },
 "nbformat": 4,
 "nbformat_minor": 5
}
